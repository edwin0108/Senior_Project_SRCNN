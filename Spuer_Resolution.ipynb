{
  "nbformat": 4,
  "nbformat_minor": 0,
  "metadata": {
    "colab": {
      "name": "Spuer_Resolution.ipynb",
      "version": "0.3.2",
      "provenance": []
    },
    "kernelspec": {
      "name": "python3",
      "display_name": "Python 3"
    },
    "accelerator": "GPU"
  },
  "cells": [
    {
      "metadata": {
        "id": "etoWJCqqBBJq",
        "colab_type": "text"
      },
      "cell_type": "markdown",
      "source": [
        "# Import Section"
      ]
    },
    {
      "metadata": {
        "id": "BuXTXaiWBBQK",
        "colab_type": "code",
        "colab": {}
      },
      "cell_type": "code",
      "source": [
        "# Path\n",
        "import os\n",
        "\n",
        "# Data\n",
        "import numpy as np\n",
        "\n",
        "# Plot\n",
        "import matplotlib.pyplot as plt\n",
        "\n",
        "# Image\n",
        "from PIL import Image # used in image processing function\n",
        "from PIL import ImageFilter # used in load_image_pair()\n",
        "\n",
        "# Tensorflow\n",
        "import tensorflow as tf\n",
        "\n",
        "from tensorflow.keras.preprocessing.image import img_to_array, array_to_img\n",
        "from tensorflow.keras.preprocessing.image import load_img\n",
        "\n",
        "# For Tensorflow Model\n",
        "from tensorflow.keras.models import Sequential\n",
        "from tensorflow.keras.layers import Conv2D, BatchNormalization\n",
        "from tensorflow.keras.optimizers import SGD, Adam\n",
        "from tensorflow.keras.initializers import RandomNormal\n",
        "\n",
        "# Google Drive\n",
        "from google.colab import drive\n"
      ],
      "execution_count": 0,
      "outputs": []
    },
    {
      "metadata": {
        "id": "pAr52j3pAKOZ",
        "colab_type": "text"
      },
      "cell_type": "markdown",
      "source": [
        "# Colab Function"
      ]
    },
    {
      "metadata": {
        "id": "7BI277Ug8aiC",
        "colab_type": "code",
        "colab": {}
      },
      "cell_type": "code",
      "source": [
        "def gpu_check():\n",
        "  \"\"\"\n",
        "      Check GPU RAM status. Since google colab share gpu resource amount of its\n",
        "      user, you want to make sure there are enough GPU RAM that are free to use.\n",
        "      Recommend at least 3000MB free GPU RAM.\n",
        "  \"\"\"\n",
        "  # memory footprint support libraries/code\n",
        "  !ln -sf /opt/bin/nvidia-smi /usr/bin/nvidia-smi\n",
        "  !pip install gputil\n",
        "  !pip install psutil\n",
        "  !pip install humanize\n",
        "  import psutil\n",
        "  import humanize\n",
        "  import os\n",
        "  import GPUtil as GPU\n",
        "  GPUs = GPU.getGPUs()\n",
        "  # XXX: only one GPU on Colab and isn’t guaranteed\n",
        "  gpu = GPUs[0]\n",
        "  process = psutil.Process(os.getpid())\n",
        "  print(\"Gen RAM Free: \" + humanize.naturalsize( psutil.virtual_memory().available ), \" | Proc size: \" + humanize.naturalsize( process.memory_info().rss))\n",
        "  print(\"GPU RAM Free: {0:.0f}MB | Used: {1:.0f}MB | Util {2:3.0f}% | Total {3:.0f}MB\".format(gpu.memoryFree, gpu.memoryUsed, gpu.memoryUtil*100, gpu.memoryTotal))"
      ],
      "execution_count": 0,
      "outputs": []
    },
    {
      "metadata": {
        "id": "jCYudY3lCm9Y",
        "colab_type": "text"
      },
      "cell_type": "markdown",
      "source": [
        "# Path Functions"
      ]
    },
    {
      "metadata": {
        "id": "m8cFuFGVCmUi",
        "colab_type": "code",
        "colab": {}
      },
      "cell_type": "code",
      "source": [
        "def ensure_dir(path_to_dir):\n",
        "  try:\n",
        "      os.makedirs(path_to_dir)\n",
        "  except FileExistsError:\n",
        "      # directory already exists\n",
        "      pass"
      ],
      "execution_count": 0,
      "outputs": []
    },
    {
      "metadata": {
        "id": "Cy0RU340NMu7",
        "colab_type": "text"
      },
      "cell_type": "markdown",
      "source": [
        "# Config"
      ]
    },
    {
      "metadata": {
        "id": "aC2LlAquNz8_",
        "colab_type": "code",
        "colab": {}
      },
      "cell_type": "code",
      "source": [
        "\"\"\"\n",
        "    config project in this cell.\n",
        "\"\"\"\n",
        "\n",
        "# Env, where you running this project\n",
        "# Google colab: 'colab'\n",
        "env = 'colab'\n"
      ],
      "execution_count": 0,
      "outputs": []
    },
    {
      "metadata": {
        "id": "-RshcPfONLU2",
        "colab_type": "code",
        "colab": {}
      },
      "cell_type": "code",
      "source": [
        "\"\"\" \n",
        "     _______________________________________________\n",
        "    | YOU SHOULD NOT CHANGE ANY THING IN THIS CELL. |\n",
        "    |_______________________________________________|\n",
        "\"\"\"\n",
        "\n",
        "# config dictionary\n",
        "config = {\n",
        "    'colab':{\n",
        "        'data_dir':'/content/drive/My Drive/Colab Notebooks/data',\n",
        "        'checkpoint_dir':'/content/drive/My Drive/Colab Notebooks/checkpoints',\n",
        "        'log_dir':'/content/drive/My Drive/Colab Notebooks/logs',\n",
        "    }\n",
        "}\n",
        "\n",
        "# setting all variables\n",
        "data_dir = config[env]['data_dir']\n",
        "checkpoint_dir = config[env]['checkpoint_dir']\n",
        "log_dir = config[env]['log_dir']\n",
        "\n",
        "# mount google drive\n",
        "if env == 'colab':\n",
        "  # mount google dirve\n",
        "  drive.mount('/content/drive')\n",
        "  # ensure dir exsits\n",
        "  ensure_dir(checkpoint_dir)\n",
        "  # check GPU\n",
        "  gpu_check()\n",
        "  "
      ],
      "execution_count": 0,
      "outputs": []
    },
    {
      "metadata": {
        "id": "kDu_20FxAARs",
        "colab_type": "text"
      },
      "cell_type": "markdown",
      "source": [
        "# Image Processing Function"
      ]
    },
    {
      "metadata": {
        "id": "c_98TDEO_pzJ",
        "colab_type": "code",
        "colab": {}
      },
      "cell_type": "code",
      "source": [
        "def bicubic_rescale(image, scale):\n",
        "  \"\"\"\n",
        "      Rescale image using bicubic interpolation.\n",
        "      \n",
        "      Args:\n",
        "        image: image\n",
        "        scale: use integer for up scaling. use 1/integer for down scaling\n",
        "  \"\"\"\n",
        "  # make sure scale is valid\n",
        "  if isinstance(scale, (float, int)):\n",
        "    size = (np.array(image.size) * scale).astype(int)\n",
        "  '''\n",
        "  WARNING\n",
        "  image.resize might lead to image displacement\n",
        "  https://hackernoon.com/how-tensorflows-tf-image-resize-stole-60-days-of-my-life-aba5eb093f35\n",
        "  switch to tf.image.resize_bicubic\n",
        "  '''\n",
        "  return image.resize(size, resample=Image.BICUBIC)\n",
        "\n",
        "\n",
        "def modcrop(image, scale):\n",
        "  \"\"\"\n",
        "      To scale down the original image, there must be no remainder while scaling\n",
        "      operation.\n",
        "      \n",
        "      All we want to do in here is to subtract the remainder from height and \n",
        "      width of original image size, and cut the original image to the new size.\n",
        "      \n",
        "      Args:\n",
        "        image: original image\n",
        "        scale: must be int\n",
        "  \"\"\"\n",
        "  if not isinstance(scale, int):\n",
        "    raise Exception('utils.modcrop: scale must be int')\n",
        "  size = np.array(image.size)\n",
        "  size -= size % scale\n",
        "  return image.crop([0, 0, *size])"
      ],
      "execution_count": 0,
      "outputs": []
    },
    {
      "metadata": {
        "id": "kQdMEWBzeZUZ",
        "colab_type": "text"
      },
      "cell_type": "markdown",
      "source": [
        "# Data Preprocessing"
      ]
    },
    {
      "metadata": {
        "id": "Q2pYcMrkefv7",
        "colab_type": "code",
        "colab": {}
      },
      "cell_type": "code",
      "source": [
        "def load_image_pair(path, scale=3, greyscale=False, same_size=False):\n",
        "  \"\"\"\n",
        "      Down scaling a hight resolution image to a low resolution image and\n",
        "      return both of them.\n",
        "      \n",
        "      Args:\n",
        "        path: image path\n",
        "        scale: scale of down scaling, must be a int\n",
        "        greyscale: return only Y channel\n",
        "  \"\"\"\n",
        "  image = load_img(path)\n",
        "  \n",
        "  if greyscale:\n",
        "    image = image.convert('YCbCr')\n",
        "    Y, Cb, Cr = image.split()\n",
        "    image = Y\n",
        "  else:\n",
        "    image = image.convert('RGB')\n",
        "\n",
        "  hr_image = modcrop(image, scale)\n",
        "  lr_image = hr_image.filter(ImageFilter.GaussianBlur(radius=2))\n",
        "  lr_image = bicubic_rescale(lr_image, 1 / scale)\n",
        "  lr_image = bicubic_rescale(lr_image, scale)\n",
        "  return lr_image, hr_image\n",
        "\n",
        "\n",
        "def random_crop(lr_image, hr_image, random_crop_size):\n",
        "  \"\"\"\n",
        "      randomly crop both lr and hr image at the same position.\n",
        "      \n",
        "      Args:\n",
        "          random_crop_size: size of sub image, array, example:[32,32]\n",
        "  \"\"\"\n",
        "  # Note: image_data_format is 'channel_last'\n",
        "  height, width = lr_image.size\n",
        "  dy, dx = random_crop_size\n",
        "  x = np.random.randint(0, width - dx + 1)\n",
        "  y = np.random.randint(0, height - dy + 1)\n",
        "  return lr_image.crop([x, y, x + dx, y + dy]), hr_image.crop([x, y, x + dx, y + dy])\n",
        "\n",
        "\n",
        "def generate_sub_images(lr_image, hr_image, size=[32, 32], num_of_image=1):\n",
        "  \"\"\"\n",
        "      Cut image into sub images.\n",
        "      \n",
        "      Args:\n",
        "        image: image\n",
        "        size: size of sub image\n",
        "        number_of_image: how many sub image you want to crop for image\n",
        "  \"\"\"\n",
        "  for i in range(num_of_image):\n",
        "    yield random_crop(lr_image, hr_image, size)\n",
        "            \n",
        "            \n",
        "class Dataset:\n",
        "  \n",
        "  def __init__(self):\n",
        "    self.lr_sub_size = 0\n",
        "    self.lr_sub_stride = 0\n",
        "    self.hr_sub_size = 0\n",
        "    self.hr_sub_stride = 0\n",
        "    self.lr_array = []\n",
        "    self.hr_array = []\n",
        "    \n",
        "    \n",
        "  def load_set(self, dataset_name, lr_sub_size, lr_sub_stride, scale, same_size=False, greyscale=False):\n",
        "    \"\"\"\n",
        "        Load all image from a directory and cut them into small sub image.\n",
        "\n",
        "        Args:\n",
        "          dataset_name: name of dir of the data set\n",
        "          lr_sub_size: low resolution sub image size\n",
        "          lr_sub_stride: stride when crop sub image\n",
        "          scale: down scale value\n",
        "          same_size: hr, lr have the same size\n",
        "          greyscale: return only Y channel\n",
        "    \"\"\"\n",
        "    if not all(isinstance(i, int) for i in [lr_sub_size, lr_sub_stride, scale]):\n",
        "      raise Exception('utils.load_set: lr_sub_size, stride, scale must be int')\n",
        "      \n",
        "    self.lr_sub_size = lr_sub_size\n",
        "    self.lr_sub_stride = lr_sub_stride\n",
        "      \n",
        "    # compute parameters for hight resolution image\n",
        "    if same_size:\n",
        "      self.hr_sub_size = lr_sub_size\n",
        "      self.hr_sub_stride = lr_sub_stride\n",
        "    else:\n",
        "      self.hr_sub_size = lr_sub_size * scale\n",
        "      self.hr_sub_stride = lr_sub_stride * scale\n",
        "    \n",
        "    for file_name in os.listdir(os.path.join(data_dir, dataset_name)):\n",
        "      path = os.path.join(data_dir, dataset_name, file_name)\n",
        "      lr_image, hr_image = load_image_pair(str(path), scale=scale, greyscale=greyscale, same_size=same_size)\n",
        "      self.lr_array.append(lr_image)\n",
        "      self.hr_array.append(hr_image)\n",
        "      \n",
        "      \n",
        "  def show_set(self):\n",
        "    \"\"\"\n",
        "      view the first 3 image of the dataset\n",
        "    \"\"\"\n",
        "    f, axarr = plt.subplots(2, 3, figsize=(18,18))\n",
        "    \n",
        "    # Plot images in subplot\n",
        "    axarr[1,2].imshow(self.hr_array[0])\n",
        "    axarr[1,1].imshow(self.hr_array[1])\n",
        "    axarr[1,0].imshow(self.hr_array[2])\n",
        "    axarr[0,2].imshow(self.lr_array[0])\n",
        "    axarr[0,1].imshow(self.lr_array[1])\n",
        "    axarr[0,0].imshow(self.lr_array[2])\n",
        "    \n",
        "    # Disable axis\n",
        "    axarr[1,2].axis(\"off\")\n",
        "    axarr[1,1].axis(\"off\")\n",
        "    axarr[1,0].axis(\"off\")\n",
        "    axarr[0,2].axis(\"off\")\n",
        "    axarr[0,1].axis(\"off\")\n",
        "    axarr[0,0].axis(\"off\")\n",
        "   \n",
        "    plt.show()\n",
        "    \n",
        "  \n",
        "  def sub_image_set(self, random_crop_size=[32,32], num_of_image=1):\n",
        "    \"\"\"\n",
        "      return the sub image dataset\n",
        "    \"\"\"\n",
        "    lr_sub_arrays = []\n",
        "    hr_sub_arrays = []\n",
        "    lr_batch = []\n",
        "    hr_batch = []\n",
        "    height, width = self.hr_array[0].size\n",
        "    dy, dx = random_crop_size\n",
        "    \n",
        "    # crop low resolution image and high resolution image at same position\n",
        "    for lr_image, hr_image in zip(self.lr_array, self.hr_array):\n",
        "      for i in range(num_of_image):\n",
        "        x = np.random.randint(0, width - dx + 1)\n",
        "        y = np.random.randint(0, height - dy + 1)\n",
        "        \n",
        "        lr_batch += [lr_image.crop([x, y, x + dx, y + dy])]\n",
        "        hr_batch += [hr_image.crop([x, y, x + dx, y + dy])]\n",
        "        \n",
        "      lr_sub_arrays += [img_to_array(img) for img in lr_batch]\n",
        "      hr_sub_arrays += [img_to_array(img) for img in hr_batch]\n",
        "    \n",
        "    # convert list to np.array\n",
        "    x = np.stack(lr_sub_arrays)\n",
        "    y = np.stack(hr_sub_arrays)\n",
        "\n",
        "    return x, y \n",
        "\n",
        "  def clear_set(self):\n",
        "    \"\"\"\n",
        "      reset Dataset\n",
        "    \"\"\"\n",
        "    self.lr_array = []\n",
        "    self.hr_array = []\n",
        "    \n",
        "    \n",
        "# TODO\n",
        "# normalization?\n",
        "# Seng: add a layer called BatchNormalization in model\n",
        "# https://keras.io/layers/normalization/"
      ],
      "execution_count": 0,
      "outputs": []
    },
    {
      "metadata": {
        "id": "_YdOAzDpH50m",
        "colab_type": "text"
      },
      "cell_type": "markdown",
      "source": [
        "# Helper Function"
      ]
    },
    {
      "metadata": {
        "id": "6ra2c266H5U5",
        "colab_type": "code",
        "colab": {}
      },
      "cell_type": "code",
      "source": [
        "def train(\n",
        "    model,\n",
        "    model_name,\n",
        "    train_set,\n",
        "    val_set,\n",
        "    epochs=1,\n",
        "    steps_per_epoch=30,\n",
        "    validation_steps=3,\n",
        "    resume=True):\n",
        "  \"\"\"\n",
        "    train function for all model.\n",
        "    \n",
        "    \n",
        "  \"\"\"\n",
        "  path_to_weight_file = os.path.join(checkpoint_dir,model_name)\n",
        "\n",
        "  # define callbacks\n",
        "  callbacks = [\n",
        "    # Save checkpoints of model at regular intervals\n",
        "    tf.keras.callbacks.ModelCheckpoint(\n",
        "        filepath=path_to_weight_file,\n",
        "        save_best_only=True\n",
        "    )\n",
        "  ]\n",
        "  \n",
        "  # inherit weights\n",
        "  if resume:\n",
        "    model.load_weights(path_to_weight_file)\n",
        "  \n",
        "  # Train\n",
        "  history = model.fit(train_set, epochs=epochs,verbose=0, callbacks=callbacks, steps_per_epoch=steps_per_epoch,\n",
        "            validation_data=val_set, validation_steps=validation_steps)\n",
        "  \n",
        "  # plot metrics\n",
        "  plot_based_accuracy(history)\n",
        "  plot_based_loss(history)\n",
        "  \n",
        "\n",
        "def test(model, test_set, steps=30, metrics=None):\n",
        "  # test\n",
        "  model.evaluate(test_set, steps=steps)\n",
        "\n",
        "def plot_based_loss(history):\n",
        "  '''\n",
        "  Plot training & validation loss values\n",
        "  history: a dictionary recording training loss values and metrics values at successive epochs\n",
        "  '''\n",
        "  plt.plot(history.history['loss'])\n",
        "  plt.plot(history.history['val_loss'])\n",
        "  plt.title('Model loss')\n",
        "  plt.ylabel('Loss')\n",
        "  plt.xlabel('Epoch')\n",
        "  plt.legend(['Train', 'Test'], loc='upper left')\n",
        "  plt.show()\n",
        "  \n",
        "def plot_based_accuracy(history):\n",
        "  '''\n",
        "  Plot training & validation accuracy values\n",
        "  history: a dictionary recording training loss values and metrics values at successive epochs\n",
        "  '''\n",
        "  plt.plot(history.history['acc'])\n",
        "  plt.plot(history.history['val_acc'])\n",
        "  plt.title('Model accuracy')\n",
        "  plt.ylabel('Accuracy')\n",
        "  plt.xlabel('Epoch')\n",
        "  plt.legend(['Train', 'Test'], loc='upper left')\n",
        "  plt.show()"
      ],
      "execution_count": 0,
      "outputs": []
    },
    {
      "metadata": {
        "id": "Njz9qRTbR2eC",
        "colab_type": "text"
      },
      "cell_type": "markdown",
      "source": [
        "# Model"
      ]
    },
    {
      "metadata": {
        "id": "aopmTkWXR5Yt",
        "colab_type": "code",
        "colab": {}
      },
      "cell_type": "code",
      "source": [
        "def srcnn(img_size, channel=1, f1=9, n1=64, n2=32, f3=5):\n",
        "  '''\n",
        "  img_size: the size of the input image\n",
        "  channel: the number of channels in the input image\n",
        "  f1: the size of filter (must be odd #)\n",
        "  n1: the number of filter apply on layer 1\n",
        "  n2: the number of filter apply on layer 2\n",
        "  f3: the size of filter (must be odd #)\n",
        "  \n",
        "  \n",
        "  from: https://arxiv.org/abs/1501.00092\n",
        "  '''  \n",
        "  \n",
        "  if not isinstance(img_size, (int)):\n",
        "    raise Exception('img_size is not a valid size in srcnn model')\n",
        "  \n",
        "  initializer = RandomNormal(mean=0.0, stddev=0.001)\n",
        "  model = Sequential()\n",
        "  model.add(Conv2D(filters=n1, kernel_size=f1, padding='same', activation='relu',\n",
        "                   kernel_initializer=initializer, input_shape=(img_size,img_size,channel)))\n",
        "  model.add(Conv2D(filters=n2, kernel_size=1, padding='same', activation='relu',\n",
        "                  kernel_initializer=initializer))\n",
        "  model.add(Conv2D(filters=channel, kernel_size=f3, padding='same', activation='linear',\n",
        "                  kernel_initializer=initializer))\n",
        "  \n",
        "  # either SGD or Adam\n",
        "  #optimizer = SGD(lr=0.0003)\n",
        "  optimizer = Adam(lr=0.0003)\n",
        "  model.compile(optimizer=optimizer, loss='mean_squared_error', metrics=['mean_squared_error'])\n",
        "  \n",
        "  model.summary()\n",
        "  \n",
        "  return model\n",
        "\n"
      ],
      "execution_count": 0,
      "outputs": []
    },
    {
      "metadata": {
        "id": "2cgYjtF81t1s",
        "colab_type": "text"
      },
      "cell_type": "markdown",
      "source": [
        "# Model Training"
      ]
    },
    {
      "metadata": {
        "id": "SGkYBCzi2AWC",
        "colab_type": "text"
      },
      "cell_type": "markdown",
      "source": [
        "## Model Config"
      ]
    },
    {
      "metadata": {
        "id": "h9UOu_Bm1uPg",
        "colab_type": "code",
        "colab": {}
      },
      "cell_type": "code",
      "source": [
        "# size of sub image\n",
        "size = 32\n",
        "\n",
        "# strde when crop image\n",
        "stride = 14\n",
        "\n",
        "# upscaling factor\n",
        "scale = 1\n",
        "\n",
        "# batch size\n",
        "batch = 32\n",
        "\n",
        "# size of low resolution and high resolution image is the same?\n",
        "same_size = True\n",
        "\n",
        "# number of sub image of each image\n",
        "num_of_image = 30\n",
        "\n",
        "# greyscale ON or OFF? if ON, img will only contain Y channel\n",
        "greyscale = True\n",
        "\n",
        "# whcih training dataset you want to use?\n",
        "train_dataset_dir = '91-image'\n",
        "\n",
        "# which validation dataset you want to use?\n",
        "val_dataset_dir = 'Set5'\n",
        "\n",
        "# which testing dataset you want to use?\n",
        "test_dataset_dir = 'Set14'\n",
        "\n",
        "# which model you want to train or test?\n",
        "model = srcnn(size, 1, 9, 64, 32, 5)\n",
        "# set the name of model below\n",
        "model_name = 'srcnn'\n",
        "\n",
        "# epochs\n",
        "epochs = 15000\n",
        "\n",
        "# steps_per_epoch\n",
        "steps_per_epoch = 30\n",
        "\n",
        "# validation_steps\n",
        "validation_steps = 3\n",
        "\n",
        "# resume last traning?\n",
        "resume = False\n",
        "    "
      ],
      "execution_count": 0,
      "outputs": []
    },
    {
      "metadata": {
        "id": "p2KU8_I55mV_",
        "colab_type": "text"
      },
      "cell_type": "markdown",
      "source": [
        "## Make Data"
      ]
    },
    {
      "metadata": {
        "id": "PXgxe40I4OWB",
        "colab_type": "code",
        "colab": {}
      },
      "cell_type": "code",
      "source": [
        "\"\"\" \n",
        "     _______________________________________________\n",
        "    | YOU SHOULD NOT CHANGE ANY THING IN THIS CELL. |\n",
        "    |_______________________________________________|\n",
        "\"\"\"\n",
        "dataset = Dataset()\n",
        "\n",
        "# load tranning dataset\n",
        "dataset.load_set(train_dataset_dir, size, stride, scale, same_size, greyscale)\n",
        "dataset.show_set()\n",
        "train_lr, train_hr = dataset.sub_image_set([size, size], num_of_image)\n",
        "\n",
        "# make tf.data dataset\n",
        "train_dataset = tf.data.Dataset.from_tensor_slices((train_lr, train_hr))\n",
        "train_dataset = train_dataset.batch(batch)\n",
        "train_dataset = train_dataset.repeat()\n",
        "\n",
        "# load validation dataset\n",
        "dataset.clear_set()\n",
        "dataset.load_set(val_dataset_dir, size, stride, scale, same_size, greyscale)\n",
        "val_lr, val_hr = dataset.sub_image_set([size, size], num_of_image)\n",
        "# make tf.data dataset\n",
        "val_dataset = tf.data.Dataset.from_tensor_slices((val_lr, val_hr))\n",
        "val_dataset = val_dataset.batch(batch//10)\n",
        "val_dataset = val_dataset.repeat()"
      ],
      "execution_count": 0,
      "outputs": []
    },
    {
      "metadata": {
        "id": "qEco354UZowl",
        "colab_type": "code",
        "colab": {}
      },
      "cell_type": "code",
      "source": [
        "\"\"\" \n",
        "    _________\n",
        "    | Train |\n",
        "    ————-\n",
        "     _______________________________________________\n",
        "    | YOU SHOULD NOT CHANGE ANY THING IN THIS CELL. |\n",
        "    |_______________________________________________|\n",
        "\"\"\"\n",
        "train(model, model_name, train_dataset, val_dataset, epochs, steps_per_epoch, validation_steps, resume)"
      ],
      "execution_count": 0,
      "outputs": []
    },
    {
      "metadata": {
        "id": "-DShHp24VRFR",
        "colab_type": "code",
        "colab": {}
      },
      "cell_type": "code",
      "source": [
        "\"\"\" \n",
        "     _______________________________________________\n",
        "    | YOU SHOULD NOT CHANGE ANY THING IN THIS CELL. |\n",
        "    |_______________________________________________|\n",
        "\"\"\"\n",
        "# load test dataset\n",
        "dataset.load_set(test_dataset_dir, size, stride, scale, same_size, greyscale)\n",
        "dataset.show_set()\n",
        "test_lr, test_hr = dataset.sub_image_set([size, size], num_of_image)\n",
        "\n",
        "# make tf.data dataset\n",
        "test_dataset = tf.data.Dataset.from_tensor_slices((test_lr, test_hr))\n",
        "test_dataset = test_dataset.batch(batch)\n",
        "test_dataset = test_dataset.repeat()"
      ],
      "execution_count": 0,
      "outputs": []
    },
    {
      "metadata": {
        "id": "Zxbfh3taVMfZ",
        "colab_type": "code",
        "colab": {}
      },
      "cell_type": "code",
      "source": [
        "\"\"\" \n",
        "    _________\n",
        "    | Test  |\n",
        "    ————-\n",
        "     _______________________________________________\n",
        "    | YOU SHOULD NOT CHANGE ANY THING IN THIS CELL. |\n",
        "    |_______________________________________________|\n",
        "\"\"\"\n",
        "test(model, test_dataset, steps=30, metrics=None)"
      ],
      "execution_count": 0,
      "outputs": []
    }
  ]
}